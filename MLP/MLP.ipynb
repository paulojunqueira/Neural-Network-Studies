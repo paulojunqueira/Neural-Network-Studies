{
 "cells": [
  {
   "cell_type": "code",
   "execution_count": 1,
   "metadata": {
    "colab": {},
    "colab_type": "code",
    "id": "fK6nUVsPM8_W"
   },
   "outputs": [],
   "source": [
    "import pandas as pd\n",
    "import numpy as np\n",
    "import matplotlib.pyplot as plt"
   ]
  },
  {
   "cell_type": "code",
   "execution_count": 2,
   "metadata": {
    "colab": {},
    "colab_type": "code",
    "id": "_ZeAPpIpNJ8X"
   },
   "outputs": [],
   "source": [
    "# Generate Synthetic data for Classification \n",
    "# features = 2\n",
    "# samples = 100\n",
    "# sigma1 = 0.5\n",
    "# mu1 = 4\n",
    "# sigma2 = 0.5\n",
    "# mu2 = 2\n",
    "# totalSamples = 2*samples\n",
    "\n",
    "# X1 = mu1 + np.random.randn(samples, features)*sigma1\n",
    "# X2 = mu2 + np.random.randn(samples, features)*sigma2\n",
    "# X = np.concatenate([X1, X2], axis =0)\n",
    "\n",
    "# y1 = np.ones(samples)\n",
    "# y2 = np.zeros(samples)\n",
    "# y = np.concatenate([y1, y2])\n",
    "\n",
    "# plt.figure(figsize = (10,6))\n",
    "# plt.scatter(X[:,0], X[:,1], c = y)\n",
    "# plt.ylabel('X2')\n",
    "# plt.xlabel('X1')\n",
    "# plt.title('Samples')"
   ]
  },
  {
   "cell_type": "code",
   "execution_count": 71,
   "metadata": {
    "colab": {
     "base_uri": "https://localhost:8080/",
     "height": 283
    },
    "colab_type": "code",
    "id": "_Zq8yMRo07sV",
    "outputId": "f7c3b854-57c3-43c0-e0bd-187b597bba0b"
   },
   "outputs": [
    {
     "data": {
      "text/plain": [
       "Text(0.5, 0, 'x')"
      ]
     },
     "execution_count": 71,
     "metadata": {},
     "output_type": "execute_result"
    },
    {
     "data": {
      "image/png": "[encoded data removed]",
      "text/plain": [
       "<Figure size 720x432 with 1 Axes>"
      ]
     },
     "metadata": {
      "needs_background": "light"
     },
     "output_type": "display_data"
    }
   ],
   "source": [
    "#Generating a Synthetic Data \n",
    "\n",
    "sigma = 0.3 #deviation\n",
    "mu = 1 # Mean\n",
    "n = 100 # Number of samples\n",
    "\n",
    "x = np.random.ranf(n)*5\n",
    "y = np.sin(2*x+1+(sigma*np.random.randn(n)+mu))\n",
    "X = x.reshape(n, 1)\n",
    "y = y.reshape(n, 1)\n",
    "\n",
    "totalSamples = len(X)\n",
    "plt.figure(figsize =(10,6))\n",
    "plt.scatter(x,y)\n",
    "plt.ylabel('y')\n",
    "plt.xlabel('x')"
   ]
  },
  {
   "cell_type": "code",
   "execution_count": 36,
   "metadata": {},
   "outputs": [],
   "source": []
  },
  {
   "cell_type": "code",
   "execution_count": 72,
   "metadata": {},
   "outputs": [],
   "source": [
    "#Train test split dataset\n",
    "split_size = 0.8\n",
    "samples = np.random.choice(totalSamples, size = totalSamples, replace = False)\n",
    "\n",
    "X_train = X[samples[:round(split_size*totalSamples)]]\n",
    "X_test = X[samples[round(split_size*totalSamples):]]\n",
    "y_train =  y[samples[:round(split_size*totalSamples)]]\n",
    "y_test = y[samples[round(split_size*totalSamples):]]\n",
    "\n",
    "X = X_train\n",
    "y = y_train\n",
    "totalSamples = len(X)"
   ]
  },
  {
   "cell_type": "code",
   "execution_count": 38,
   "metadata": {
    "colab": {},
    "colab_type": "code",
    "id": "TfuWRje-erK2"
   },
   "outputs": [],
   "source": [
    "def sech2(u):\n",
    "    return(((2/(np.exp(u)+np.exp(-u)))*(2/(np.exp(u)+np.exp(-u)))))"
   ]
  },
  {
   "cell_type": "code",
   "execution_count": 73,
   "metadata": {
    "colab": {},
    "colab_type": "code",
    "id": "U9RTwL5ZOBpf"
   },
   "outputs": [],
   "source": [
    "p = 4 #Hidden Layer\n",
    "out = 1 #Output layer\n",
    "tol = 0.01 #Stop Tolerance \n",
    "maxepocas = 2000\n",
    "nepocas = 0\n",
    "eta = 0.001 #learning Rate\n",
    "eepoch = tol+1\n",
    "evec = np.zeros(maxepocas)\n",
    "\n",
    "# X and Bias Matrix\n",
    "Xaug = np.concatenate([X, np.ones((totalSamples, 1))], axis = 1)\n",
    "row, col = Xaug.shape\n",
    "\n",
    "# Initializing Layers with random values\n",
    "W = np.random.uniform(low = -0.5,high = 0.5, size = (col,p))\n",
    "Z = np.random.uniform(low = -0.5, high = 0.6, size =((p+1), out)  )"
   ]
  },
  {
   "cell_type": "code",
   "execution_count": null,
   "metadata": {
    "colab": {},
    "colab_type": "code",
    "id": "ZmaxwEZ3RK6W"
   },
   "outputs": [],
   "source": [
    "#Training \n",
    "while((nepocas <maxepocas) and (eepoch > tol)):\n",
    "    \n",
    "    \n",
    "    print(f'Epochs {nepocas+1}\\ {maxepocas}, MSE: {eepoch}')\n",
    "    ei =0\n",
    "    for i in range(row):\n",
    "        H = np.tanh(np.dot(Xaug[i,:],W))\n",
    "        H = np.concatenate([H,[1]], axis = 0)\n",
    "        H = H.reshape((1,(p+1)))\n",
    "        y_hat = np.tanh(np.dot(H,(Z))).reshape(1,out)\n",
    "        \n",
    "        e = (y[i][0] - y_hat[0])**2\n",
    "        \n",
    "        d_Z = (2*(y[i] - y_hat))* np.dot(np.dot(sech2(H),Z), H)\n",
    "\n",
    "        a = sech2(np.dot(Xaug[i,:],W)).reshape(1,p)\n",
    "        b =  (2*(y[i] - y_hat))\n",
    "        c = ( np.dot(sech2(H), Z)*(Z[:-1,0]))\n",
    "        d_W = (a * np.dot(b,c)) \n",
    "        d_W = np.dot(np.transpose(d_W), (Xaug[i,:]).reshape(1,col))\n",
    "\n",
    "        Z += eta*np.transpose(d_Z)\n",
    "        W += eta*np.transpose(d_W)\n",
    "        \n",
    "        ei+=e\n",
    "    \n",
    "    eepoch = ei/totalSamples\n",
    "    evec[nepocas] = eepoch\n",
    "    nepocas+=1\n",
    "    "
   ]
  },
  {
   "cell_type": "code",
   "execution_count": 0,
   "metadata": {
    "colab": {},
    "colab_type": "code",
    "id": "sxLhCeT6TgvG"
   },
   "outputs": [],
   "source": [
    "# # For Classification\n",
    "# seqx1x2 = np.arange(0,6.2,0.2)\n",
    "# cr = 0\n",
    "# mz = np.zeros((len(seqx1x2),len(seqx1x2)))\n",
    "# for i in range(len(seqx1x2)):\n",
    "#     for j in range(len(seqx1x2)):\n",
    "#         cr +=1\n",
    "#         x1 = seqx1x2[i]\n",
    "#         x2 = seqx1x2[j]\n",
    "#         x1x2 = np.array([[x1,x2, 1]])\n",
    "#         H = np.tanh(np.dot(x1x2[0,:],W))\n",
    "#         H = np.concatenate([H,[1]], axis = 0)\n",
    "#         H = H.reshape((1,(p+1)))\n",
    "\n",
    "#         mz[i,j] = np.sign(np.dot(H,Z))"
   ]
  },
  {
   "cell_type": "code",
   "execution_count": 76,
   "metadata": {
    "colab": {},
    "colab_type": "code",
    "id": "xgv7sT9-pWVQ"
   },
   "outputs": [],
   "source": [
    "#Testing data \n",
    "# xran = (np.random.ranf(totalSamples)*5).reshape(totalSamples,1)\n",
    "xran = X_test\n",
    "Nrange = len(xran)\n",
    "xran = np.concatenate([xran, np.ones((Nrange, 1))], axis = 1)\n",
    "\n",
    "yhat = np.zeros(Nrange)\n",
    "for i in range(Nrange):\n",
    "\n",
    "        H = np.tanh(np.dot(xran[i,:],W))\n",
    "        H = np.concatenate([H,[1]], axis = 0)\n",
    "        H = H.reshape((1,(p+1)))\n",
    "\n",
    "        yhat[i] = np.tanh(np.dot(H,(Z)))\n"
   ]
  },
  {
   "cell_type": "code",
   "execution_count": 77,
   "metadata": {
    "colab": {
     "base_uri": "https://localhost:8080/",
     "height": 297
    },
    "colab_type": "code",
    "id": "8PkeyPDPyim2",
    "outputId": "d1de9dbb-9c9e-416f-d098-71250cdb7682"
   },
   "outputs": [
    {
     "data": {
      "text/plain": [
       "<matplotlib.legend.Legend at 0x21cec188448>"
      ]
     },
     "execution_count": 77,
     "metadata": {},
     "output_type": "execute_result"
    },
    {
     "data": {
      "image/png": "[encoded data removed]",
      "text/plain": [
       "<Figure size 720x432 with 1 Axes>"
      ]
     },
     "metadata": {
      "needs_background": "light"
     },
     "output_type": "display_data"
    }
   ],
   "source": [
    "plt.figure(figsize = (10,6))\n",
    "plt.scatter(X,y, label = 'Original')\n",
    "plt.scatter(xran[:,0], yhat, label ='Test Data')\n",
    "plt.xlabel('X')\n",
    "plt.ylabel('Y')\n",
    "plt.legend()"
   ]
  },
  {
   "cell_type": "code",
   "execution_count": 79,
   "metadata": {
    "colab": {},
    "colab_type": "code",
    "id": "UvraYfw34CXr"
   },
   "outputs": [
    {
     "data": {
      "text/plain": [
       "Text(0.5, 0, 'Epochs')"
      ]
     },
     "execution_count": 79,
     "metadata": {},
     "output_type": "execute_result"
    },
    {
     "data": {
      "image/png": "[encoded data removed]",
      "text/plain": [
       "<Figure size 720x432 with 1 Axes>"
      ]
     },
     "metadata": {
      "needs_background": "light"
     },
     "output_type": "display_data"
    }
   ],
   "source": [
    "plt.figure(figsize = (10,6))\n",
    "plt.plot(evec)\n",
    "plt.ylabel('MSE')\n",
    "plt.xlabel('Epochs')"
   ]
  },
  {
   "cell_type": "code",
   "execution_count": 80,
   "metadata": {},
   "outputs": [],
   "source": [
    "# New Data\n",
    "xran = (np.random.ranf(totalSamples)*5).reshape(totalSamples,1)\n",
    "Nrange = len(xran)\n",
    "xran = np.concatenate([xran, np.ones((Nrange, 1))], axis = 1)\n",
    "yhat = np.zeros(Nrange)\n",
    "for i in range(Nrange):\n",
    "\n",
    "        H = np.tanh(np.dot(xran[i,:],W))\n",
    "        H = np.concatenate([H,[1]], axis = 0)\n",
    "        H = H.reshape((1,(p+1)))\n",
    "\n",
    "        yhat[i] = np.tanh(np.dot(H,(Z)))\n"
   ]
  },
  {
   "cell_type": "code",
   "execution_count": 81,
   "metadata": {},
   "outputs": [
    {
     "data": {
      "text/plain": [
       "<matplotlib.legend.Legend at 0x21ced258948>"
      ]
     },
     "execution_count": 81,
     "metadata": {},
     "output_type": "execute_result"
    },
    {
     "data": {
      "image/png": "[encoded data removed]",
      "text/plain": [
       "<Figure size 720x432 with 1 Axes>"
      ]
     },
     "metadata": {
      "needs_background": "light"
     },
     "output_type": "display_data"
    }
   ],
   "source": [
    "plt.figure(figsize = (10,6))\n",
    "plt.scatter(X,y, label = 'Original')\n",
    "plt.scatter(xran[:,0], yhat, label ='y_hat')\n",
    "plt.xlabel('X')\n",
    "plt.ylabel('Y')\n",
    "plt.legend()"
   ]
  },
  {
   "cell_type": "code",
   "execution_count": null,
   "metadata": {},
   "outputs": [],
   "source": []
  }
 ],
 "metadata": {
  "colab": {
   "name": "MLP.ipynb",
   "provenance": []
  },
  "kernelspec": {
   "display_name": "Python 3",
   "language": "python",
   "name": "python3"
  },
  "language_info": {
   "codemirror_mode": {
    "name": "ipython",
    "version": 3
   },
   "file_extension": ".py",
   "mimetype": "text/x-python",
   "name": "python",
   "nbconvert_exporter": "python",
   "pygments_lexer": "ipython3",
   "version": "3.7.4"
  }
 },
 "nbformat": 4,
 "nbformat_minor": 1
}
