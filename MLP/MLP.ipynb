{
  "nbformat": 4,
  "nbformat_minor": 0,
  "metadata": {
    "colab": {
      "name": "MLP.ipynb",
      "provenance": []
    },
    "kernelspec": {
      "name": "python3",
      "display_name": "Python 3"
    }
  },
  "cells": [
    {
      "cell_type": "code",
      "metadata": {
        "id": "fK6nUVsPM8_W",
        "colab_type": "code",
        "colab": {}
      },
      "source": [
        "import pandas as pd\n",
        "import numpy as np\n",
        "import matplotlib.pyplot as plt\n"
      ],
      "execution_count": 0,
      "outputs": []
    },
    {
      "cell_type": "code",
      "metadata": {
        "id": "_ZeAPpIpNJ8X",
        "colab_type": "code",
        "colab": {}
      },
      "source": [
        "#Classification\n",
        "# features = 2\n",
        "# samples = 100\n",
        "# sigma1 = 0.5\n",
        "# mu1 = 4\n",
        "# sigma2 = 0.5\n",
        "# mu2 = 2\n",
        "# totalSamples = 2*samples\n",
        "\n",
        "# X1 = mu1 + np.random.randn(samples, features)*sigma1\n",
        "# X2 = mu2 + np.random.randn(samples, features)*sigma2\n",
        "# X = np.concatenate([X1, X2], axis =0)\n",
        "\n",
        "# y1 = np.ones(samples)\n",
        "# y2 = np.zeros(samples)\n",
        "# y = np.concatenate([y1, y2])\n",
        "\n",
        "# plt.figure(figsize = (10,6))\n",
        "# plt.scatter(X[:,0], X[:,1], c = y)\n",
        "# plt.ylabel('X2')\n",
        "# plt.xlabel('X1')\n",
        "# plt.title('Samples')"
      ],
      "execution_count": 0,
      "outputs": []
    },
    {
      "cell_type": "code",
      "metadata": {
        "id": "_Zq8yMRo07sV",
        "colab_type": "code",
        "colab": {
          "base_uri": "https://localhost:8080/",
          "height": 283
        },
        "outputId": "f7c3b854-57c3-43c0-e0bd-187b597bba0b"
      },
      "source": [
        "#Generating a Synthetic Data \n",
        "sigma = 0.3\n",
        "mu = 1\n",
        "n = 100\n",
        "x = np.random.ranf(n)*5\n",
        "y = np.sin(2*x+1+(sigma*np.random.randn(n)+mu))\n",
        "X = x.reshape(n, 1)\n",
        "y = y.reshape(n, 1)\n",
        "totalSamples = len(X)\n",
        "plt.scatter(x,y)"
      ],
      "execution_count": 352,
      "outputs": [
        {
          "output_type": "execute_result",
          "data": {
            "text/plain": [
              "<matplotlib.collections.PathCollection at 0x7f5f8e1789b0>"
            ]
          },
          "metadata": {
            "tags": []
          },
          "execution_count": 352
        },
        {
          "output_type": "display_data",
          "data": {
            "image/png": "[encoded data removed]",
            "text/plain": [
              "<Figure size 432x288 with 1 Axes>"
            ]
          },
          "metadata": {
            "tags": [],
            "needs_background": "light"
          }
        }
      ]
    },
    {
      "cell_type": "code",
      "metadata": {
        "id": "TfuWRje-erK2",
        "colab_type": "code",
        "colab": {}
      },
      "source": [
        "def sech2(u):\n",
        "    return(((2/(np.exp(u)+np.exp(-u)))*(2/(np.exp(u)+np.exp(-u)))))"
      ],
      "execution_count": 0,
      "outputs": []
    },
    {
      "cell_type": "code",
      "metadata": {
        "id": "U9RTwL5ZOBpf",
        "colab_type": "code",
        "colab": {}
      },
      "source": [
        "p = 3\n",
        "out = 1\n",
        "tol = 0.001\n",
        "maxepocas = 2000\n",
        "nepocas = 0\n",
        "eta = 0.01\n",
        "\n",
        "# X and Bias Matrix\n",
        "Xaug = np.concatenate([X, np.ones((totalSamples, 1))], axis = 1)\n",
        "row, col = Xaug.shape\n",
        "# Layers\n",
        "W = np.random.uniform(low = -0.5,high = 0.5, size = (col,p))\n",
        "Z = np.random.uniform(low = -0.5, high = 0.6, size =((p+1), out)  )"
      ],
      "execution_count": 0,
      "outputs": []
    },
    {
      "cell_type": "code",
      "metadata": {
        "id": "ZmaxwEZ3RK6W",
        "colab_type": "code",
        "colab": {}
      },
      "source": [
        "while((nepocas <maxepocas)):\n",
        "    print(f'Epochs {nepocas+1}\\ {maxepocas}')\n",
        "    for i in range(row):\n",
        "        H = np.tanh(np.dot(Xaug[i,:],W))\n",
        "        H = np.concatenate([H,[1]], axis = 0)\n",
        "        H = H.reshape((1,(p+1)))\n",
        "        y_hat = np.tanh(np.dot(H,(Z))).reshape(1,out)\n",
        "\n",
        "        d_Z = (2*(y[i] - y_hat))* np.dot(np.dot(sech2(H),Z), H)\n",
        "\n",
        "        a = sech2(np.dot(Xaug[i,:],W)).reshape(1,p)\n",
        "        b =  (2*(y[i] - y_hat))\n",
        "        c = ( np.dot(sech2(H), Z)*(Z[:-1,0]))\n",
        "        d_W = (a * np.dot(b,c)) \n",
        "        d_W = np.dot(np.transpose(d_W), (Xaug[i,:]).reshape(1,col))\n",
        "\n",
        "        Z += eta*np.transpose(d_Z)\n",
        "        W += eta*np.transpose(d_W)\n",
        "\n",
        "    nepocas+=1"
      ],
      "execution_count": 0,
      "outputs": []
    },
    {
      "cell_type": "code",
      "metadata": {
        "id": "sxLhCeT6TgvG",
        "colab_type": "code",
        "colab": {}
      },
      "source": [
        "# # Classification\n",
        "# seqx1x2 = np.arange(0,6.2,0.2)\n",
        "# cr = 0\n",
        "# mz = np.zeros((len(seqx1x2),len(seqx1x2)))\n",
        "# for i in range(len(seqx1x2)):\n",
        "#     for j in range(len(seqx1x2)):\n",
        "#         cr +=1\n",
        "#         x1 = seqx1x2[i]\n",
        "#         x2 = seqx1x2[j]\n",
        "#         x1x2 = np.array([[x1,x2, 1]])\n",
        "#         H = np.tanh(np.dot(x1x2[0,:],W))\n",
        "#         H = np.concatenate([H,[1]], axis = 0)\n",
        "#         H = H.reshape((1,(p+1)))\n",
        "\n",
        "#         mz[i,j] = np.sign(np.dot(H,Z))"
      ],
      "execution_count": 0,
      "outputs": []
    },
    {
      "cell_type": "code",
      "metadata": {
        "id": "xgv7sT9-pWVQ",
        "colab_type": "code",
        "colab": {}
      },
      "source": [
        "\n",
        "xran = (np.random.ranf(totalSamples)*5).reshape(totalSamples,1)\n",
        "xran = np.concatenate([xran, np.ones((totalSamples, 1))], axis = 1)\n",
        "Nrange = len(xran)\n",
        "yhat = np.zeros(Nrange)\n",
        "for i in range(Nrange):\n",
        "\n",
        "        H = np.tanh(np.dot(xran[i,:],W))\n",
        "        H = np.concatenate([H,[1]], axis = 0)\n",
        "        H = H.reshape((1,(p+1)))\n",
        "\n",
        "        yhat[i] = np.tanh(np.dot(H,(Z)))\n"
      ],
      "execution_count": 0,
      "outputs": []
    },
    {
      "cell_type": "code",
      "metadata": {
        "id": "8PkeyPDPyim2",
        "colab_type": "code",
        "colab": {
          "base_uri": "https://localhost:8080/",
          "height": 297
        },
        "outputId": "d1de9dbb-9c9e-416f-d098-71250cdb7682"
      },
      "source": [
        "plt.scatter(X,y)\n",
        "plt.scatter(xran[:,0], yhat)\n",
        "plt.xlabel('X')\n",
        "plt.ylabel('Y')"
      ],
      "execution_count": 357,
      "outputs": [
        {
          "output_type": "execute_result",
          "data": {
            "text/plain": [
              "Text(0, 0.5, 'Y')"
            ]
          },
          "metadata": {
            "tags": []
          },
          "execution_count": 357
        },
        {
          "output_type": "display_data",
          "data": {
            "image/png": "[encoded data removed]",
            "text/plain": [
              "<Figure size 432x288 with 1 Axes>"
            ]
          },
          "metadata": {
            "tags": [],
            "needs_background": "light"
          }
        }
      ]
    },
    {
      "cell_type": "code",
      "metadata": {
        "id": "UvraYfw34CXr",
        "colab_type": "code",
        "colab": {}
      },
      "source": [
        ""
      ],
      "execution_count": 0,
      "outputs": []
    }
  ]
}