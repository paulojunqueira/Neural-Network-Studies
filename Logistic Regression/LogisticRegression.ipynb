{
 "cells": [
  {
   "cell_type": "code",
   "execution_count": null,
   "metadata": {
    "scrolled": true
   },
   "outputs": [],
   "source": [
    "import numpy as np\n",
    "import matplotlib.pyplot as plt\n",
    "\n",
    "from skimage.io import imread_collection, imshow\n",
    "from skimage.transform import resize,downscale_local_mean\n",
    "\n",
    "from sklearn.metrics import classification_report"
   ]
  },
  {
   "cell_type": "code",
   "execution_count": 2,
   "metadata": {},
   "outputs": [],
   "source": [
    "def formatData(size, cats_dir, dogs_dir, dim):\n",
    "    \"\"\" This function reads dataset, separeta a slice (size),\n",
    "        resize photos (dim) and create labels (0, 1) for respective\n",
    "        classes. It randomizes positions.\n",
    "    \"\"\"\n",
    "    train_cats = imread_collection(cats_dir)\n",
    "    train_cats = train_cats[0:size]\n",
    "    train_cats = np.array(list(map(lambda x: resize(x, (dim,dim,3)),train_cats)))\n",
    "    y_cats = np.ones((1,len(train_cats)))\n",
    "\n",
    "    train_dogs = imread_collection(dogs_dir)\n",
    "    train_dogs = train_dogs[0:size]\n",
    "    train_dogs = np.array(list(map(lambda x: resize(x, (dim,dim,3)),train_dogs)))\n",
    "    y_dogs = np.zeros((1,len(train_dogs)))\n",
    "\n",
    "    X_train = np.concatenate([train_cats, train_dogs])\n",
    "    \n",
    "    Y_train = np.concatenate([y_cats, y_dogs], axis = 1)\n",
    "    \n",
    "\n",
    "    sample = np.random.choice(range(2*size),2*size, replace = False )\n",
    "    X_train = X_train[sample]\n",
    "    Y_train = Y_train[0,sample]\n",
    "\n",
    "    return X_train, Y_train"
   ]
  },
  {
   "cell_type": "code",
   "execution_count": 3,
   "metadata": {},
   "outputs": [],
   "source": [
    "#Sigmoid functions\n",
    "def sigmoid(z):\n",
    "    return 1/(1+np.exp(-z))\n",
    "\n",
    "#Train\n",
    "def logisticRegression(X,Y,maxIterations,eta, verbose = True):\n",
    "    \n",
    "    size,m = X.shape\n",
    "    cost = []\n",
    "    w = np.zeros((size,1))\n",
    "    b = 0\n",
    "    alpha = 0.01\n",
    "    costi = 1.0 + alpha\n",
    "    i = 0\n",
    "    while i < maxIterations or costi<alpha:\n",
    "    \n",
    "        if verbose:\n",
    "            print(f'Epoch:{i+1}/{maxIterations}, Loss: {costi}')\n",
    "        #Feed Forword \n",
    "        Z = sigmoid(np.dot(w.T,X)+b)               \n",
    "        costi = (-1/m)*np.sum(((Y*np.log(Z)) + (1-Y)*np.log(1-Z)), axis = 1)   \n",
    "        cost.append(costi)\n",
    "\n",
    "        #BackPropagation\n",
    "        dw = (1/m)*(np.dot(X,((Z-Y).T)))\n",
    "        db = (1/m)*np.sum((Z-Y), axis = 1)\n",
    "        #Update\n",
    "        w = w-eta*dw\n",
    "        b = b-eta*db\n",
    "\n",
    "        i+=1\n",
    "    return w, b, cost \n",
    "\n",
    "#Predict Data\n",
    "def pred(w,b, X):\n",
    "    size, m = X.shape\n",
    "    yhat = np.zeros((1,m))\n",
    "\n",
    "    #Feed Forword\n",
    "    Z = sigmoid(np.dot(w.T,X)+b)  \n",
    "    for i in range(m):\n",
    "\n",
    "        if Z[0,i] <= 0.5:\n",
    "            yhat[0,i] = 0\n",
    "        else:\n",
    "            yhat[0,i] = 1\n",
    "\n",
    "    return yhat\n",
    "    \n",
    "def acc(yhat,ytrue):\n",
    "    return 100 - np.mean(np.abs(yhat - ytrue)) * 100\n"
   ]
  },
  {
   "cell_type": "code",
   "execution_count": null,
   "metadata": {},
   "outputs": [],
   "source": [
    "#Dataset Cats vs dog\n",
    "\n",
    "#Train Data path \n",
    "cats = 'data\\\\data\\\\train\\\\cat.*.jpg'\n",
    "dogs = 'data\\\\data\\\\train\\\\dog.*.jpg'\n",
    "pp = 64\n",
    "X_train, Y_train = formatData(800, cats, dogs, pp)\n",
    "X_tr = X_train.reshape(X_train.shape[0],-1).T\n",
    "\n",
    "w,b,cost = logisticRegression(X_tr,Y_train, 100000,0.001)\n",
    "yhat_train = pred(w,b,X_tr)\n"
   ]
  },
  {
   "cell_type": "code",
   "execution_count": 6,
   "metadata": {},
   "outputs": [
    {
     "data": {
      "text/plain": [
       "[<matplotlib.lines.Line2D at 0x1934c83e2e8>]"
      ]
     },
     "execution_count": 6,
     "metadata": {},
     "output_type": "execute_result"
    },
    {
     "data": {
      "image/png": "[encoded data removed]",
      "text/plain": [
       "<Figure size 864x576 with 1 Axes>"
      ]
     },
     "metadata": {
      "needs_background": "light"
     },
     "output_type": "display_data"
    }
   ],
   "source": [
    "plt.figure(figsize=(12,8))\n",
    "plt.ylabel('Loss')\n",
    "plt.xlabel('Epoch')\n",
    "plt.plot(cost)"
   ]
  },
  {
   "cell_type": "code",
   "execution_count": 7,
   "metadata": {},
   "outputs": [
    {
     "name": "stdout",
     "output_type": "stream",
     "text": [
      "Train accuracy: 98.0625\n"
     ]
    }
   ],
   "source": [
    "print(f'Train accuracy: {acc(yhat_train, Y_train)}')"
   ]
  },
  {
   "cell_type": "markdown",
   "metadata": {},
   "source": [
    "Using a really small dataset just to check it. But it do not represent overall acc over a real testing set!"
   ]
  },
  {
   "cell_type": "code",
   "execution_count": 9,
   "metadata": {},
   "outputs": [],
   "source": [
    "#Load Small personal test data 5 img\n",
    "testData = imread_collection('data\\\\data\\\\eval\\\\*.jpeg')\n",
    "testData = np.array(list(map(lambda x: resize(x, (pp,pp,3)),testData)))\n",
    "testData = testData.reshape(testData.shape[0],-1).T"
   ]
  },
  {
   "cell_type": "code",
   "execution_count": 11,
   "metadata": {},
   "outputs": [
    {
     "name": "stdout",
     "output_type": "stream",
     "text": [
      "['Cat', 'Cat', 'Cat', 'Cat', 'Dog']\n"
     ]
    }
   ],
   "source": [
    "y_test = [1,1,1,0,0]\n",
    "result = pred(w,b,testData)\n",
    "print(list(map(lambda x: 'Cat' if x == 1 else 'Dog', result[0])))"
   ]
  },
  {
   "cell_type": "code",
   "execution_count": 14,
   "metadata": {},
   "outputs": [
    {
     "name": "stdout",
     "output_type": "stream",
     "text": [
      "Test accuracy: 80.0\n"
     ]
    }
   ],
   "source": [
    "print(f'Test accuracy: {acc(result, y_test)}')"
   ]
  }
 ],
 "metadata": {
  "kernelspec": {
   "display_name": "Python 3.7.3 64-bit ('base': conda)",
   "language": "python",
   "name": "python37364bitbaseconda7d03339b95f1474c99e95b8b8e669b5d"
  },
  "language_info": {
   "codemirror_mode": {
    "name": "ipython",
    "version": 3
   },
   "file_extension": ".py",
   "mimetype": "text/x-python",
   "name": "python",
   "nbconvert_exporter": "python",
   "pygments_lexer": "ipython3",
   "version": "3.7.3"
  }
 },
 "nbformat": 4,
 "nbformat_minor": 2
}
